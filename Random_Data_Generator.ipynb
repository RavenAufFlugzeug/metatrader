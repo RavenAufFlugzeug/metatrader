{
 "cells": [
  {
   "cell_type": "code",
   "execution_count": 15,
   "metadata": {},
   "outputs": [],
   "source": [
    "import pandas as pd\n",
    "import numpy as np\n",
    "from datetime import datetime"
   ]
  },
  {
   "cell_type": "code",
   "execution_count": 16,
   "metadata": {},
   "outputs": [
    {
     "data": {
      "text/plain": [
       "'Generated data and saved to Excel files successfully!'"
      ]
     },
     "execution_count": 16,
     "metadata": {},
     "output_type": "execute_result"
    }
   ],
   "source": [
    "# Define the function to generate stock data\n",
    "def generate_stock_data(start_date, end_date, trend_multiplier=0.3, randomness_scale=10):\n",
    "    # Generate date range\n",
    "    date_range = pd.date_range(start=start_date, end=end_date)\n",
    "    num_days = len(date_range)\n",
    "    \n",
    "    # Generate stock prices with trend and randomness\n",
    "    trend = np.linspace(10, 50, num_days) * trend_multiplier\n",
    "    randomness = np.random.normal(loc=30, scale=randomness_scale, size=num_days)\n",
    "    adj_close = trend + randomness\n",
    "    adj_close = np.clip(adj_close, 0, None)  # Ensure prices stay above 1\n",
    "    \n",
    "    # Generate random volumes\n",
    "    adj_volume = np.random.randint(3_000_000, 5_000_001, num_days)\n",
    "    \n",
    "    # Create DataFrame\n",
    "    df = pd.DataFrame({\n",
    "        \"Date\": date_range,\n",
    "        \"Adj_Close\": np.round(adj_close, 3),\n",
    "        \"Adj_Volume\": adj_volume\n",
    "    })\n",
    "    return df\n",
    "\n",
    "# Generate AMD data\n",
    "amd_data = generate_stock_data(datetime(2022, 12, 31), datetime(2023, 12, 31))\n",
    "amd_data.to_excel(\"AMD.xlsx\", index=False)\n",
    "\n",
    "# Generate NVIDIA data with more clear trend and less randomness\n",
    "nvidia_data = generate_stock_data(datetime(2022, 12, 31), datetime(2023, 12, 31), trend_multiplier=0.6, randomness_scale=5)\n",
    "nvidia_data.to_excel(\"NVIDIA.xlsx\", index=False)\n",
    "\n",
    "\"Generated data and saved to Excel files successfully!\""
   ]
  }
 ],
 "metadata": {
  "kernelspec": {
   "display_name": "Python 3",
   "language": "python",
   "name": "python3"
  },
  "language_info": {
   "codemirror_mode": {
    "name": "ipython",
    "version": 3
   },
   "file_extension": ".py",
   "mimetype": "text/x-python",
   "name": "python",
   "nbconvert_exporter": "python",
   "pygments_lexer": "ipython3",
   "version": "3.12.2"
  }
 },
 "nbformat": 4,
 "nbformat_minor": 2
}
